{
  "nbformat": 4,
  "nbformat_minor": 0,
  "metadata": {
    "colab": {
      "provenance": [],
      "authorship_tag": "ABX9TyNxbMWkhOILYbmUzcEuQPId",
      "include_colab_link": true
    },
    "kernelspec": {
      "name": "python3",
      "display_name": "Python 3"
    },
    "language_info": {
      "name": "python"
    }
  },
  "cells": [
    {
      "cell_type": "markdown",
      "metadata": {
        "id": "view-in-github",
        "colab_type": "text"
      },
      "source": [
        "<a href=\"https://colab.research.google.com/github/geonhui99/-/blob/main/0722db.ipynb\" target=\"_parent\"><img src=\"https://colab.research.google.com/assets/colab-badge.svg\" alt=\"Open In Colab\"/></a>"
      ]
    },
    {
      "cell_type": "markdown",
      "source": [
        "\"[문제10]\\n\",\n",
        "    \"\\n\",\n",
        "    \"데이터 제어 언어(DCL)인 GRANT에 대한 설명으로 옳은 것을 골라주세요\\n\",\n",
        "    \"\\n\",\n",
        "    \"- 사용자에게 특정 작업을 수행할 권한을 부여한다.\\n\",\n",
        "    \"- 사용자로부터 특정 작업 수행 권항을 제거한다.\\n\",\n",
        "    \"- 다른 사용자에게 동일한 권한을 전달할때 사용한다.\\n\",\n",
        "    \"- 부여된 권한 중 일부를 제한할때 사용한다.\"\n",
        "\n",
        "    \"정답 : 사용자에게 특정 작업을 수행할 권한을 부여한다\n",
        "\n",
        "\n",
        "\n",
        "    \"[문제11]\\n\",\n",
        "    \"\\n\",\n",
        "    \"테이블을 생성하기 위해서 사용되는 sql문을 선택해주세요\\n\",\n",
        "    \"\\n\",\n",
        "    \"- CREATE TABLE\\n\",\n",
        "    \"- CREATE NEW TABLE\\n\",\n",
        "    \"- ADD TABLE\\n\",\n",
        "    \"- UPDATE TABLE\"\n",
        "\n",
        "    \"정답 : CREATE TABLE\n",
        "\n",
        "\n",
        "\n",
        "    \"[문제12]\\n\",\n",
        "    \"\\n\",\n",
        "    \"테이블 생성 시 컬럼(속성)에 값이 항상 존재하도록 설정하는 명령어를 선택해주세요\\n\",\n",
        "    \"\\n\",\n",
        "    \"- IS NULL\\n\",\n",
        "    \"- NOT NULL\\n\",\n",
        "    \"- IN NULL\\n\",\n",
        "    \"- NULL\"\n",
        "\n",
        "    \"정답 : NOT NULL\n",
        "\n",
        "\n",
        "\n",
        "    \"[문제13]\\n\",\n",
        "    \"\\n\",\n",
        "    \"테이블 생성 시 컬럼(속성)에 중복된 값을 허용하지 않도록 설정하는 명령어를 모두 선택해주세요\\n\",\n",
        "    \"\\n\",\n",
        "    \"- UNIQUE\\n\",\n",
        "    \"- DEFAULT False\\n\",\n",
        "    \"- PRIMARY KEY\\n\",\n",
        "    \"- AUTO_INCREMENT\"\n",
        "\n",
        "    \"정답 : UNIQUE, PRIMARY KEY\n",
        "\n",
        "\n",
        "\n",
        "    \"[문제14]\\n\",\n",
        "    \"\\n\",\n",
        "    \"데이터베이스의 숫자형 데이터 타입이 아닌것을 선택해주세요\\n\",\n",
        "    \"\\n\",\n",
        "    \"- BIT\\n\",\n",
        "    \"- INT\\n\",\n",
        "    \"- CHAR\\n\",\n",
        "    \"- BIGINT\"\n",
        "\n",
        "    \"정답 : CHAR\n",
        "\n",
        "\n",
        "\n",
        "    \"[문제15]\\n\",\n",
        "    \"\\n\",\n",
        "    \"날짜와 시간을 같이 나타내는 데이터 타입을 선택해주세요\\n\",\n",
        "    \"\\n\",\n",
        "    \"- DATE\\n\",\n",
        "    \"- TIME\\n\",\n",
        "    \"- DATETIME\"\n",
        "\n",
        "    \"정답 : DATETIME\n",
        "\n",
        "\n",
        "\n",
        "    \"[문제16]\\n\",\n",
        "    \"\\n\",\n",
        "    \"CHAR과 VARCHAR의 차이로 옳은 것을 선택해 주세요\\n\",\n",
        "    \"\\n\",\n",
        "    \"- 저장할 수 있는 데이터 종류(문자, 숫자)가 다름\\n\",\n",
        "    \"- 데이터를 담을 수 있는 공간이 고정인지 가변인지의 차이\\n\",\n",
        "    \"- 문자열 값을 정수로 표현할 수 있는지의 차이\\n\",\n",
        "    \"- 한번 입력된 데이터의 수정 여부의 차이\"\n",
        "\n",
        "    \"정답 : 데이터를 담을 수 있는 공간이 고정인지 가변인지의 차이\n",
        "\n",
        "\n",
        "\n",
        "    \"[문제17]\\n\",\n",
        "    \"\\n\",\n",
        "    \"데이터베이스 내의 트랜잭션을 관리하는데 사용되는 언어를 선택해주세요\\n\",\n",
        "    \"\\n\",\n",
        "    \"- DCL\\n\",\n",
        "    \"- DML\\n\",\n",
        "    \"- TCL\\n\",\n",
        "    \"- DDL\"\n",
        "\n",
        "    \"정답 : 데이터베이스 내의 트랜잭션을 관리하는데 사용되는 언어를 선택해주세요\n",
        "\n",
        "\n",
        "\n",
        "    \"[문제18]\\n\",\n",
        "    \"\\n\",\n",
        "    \"칼럼에 저장될 수 있는 값의 범위나 조건을 지정하는 명령어를 선택해주세요\\n\",\n",
        "    \"\\n\",\n",
        "    \"- IN\\n\",\n",
        "    \"- WHERE\\n\",\n",
        "    \"- CHECK\\n\",\n",
        "    \"- ON\"\n",
        "\n",
        "    \"정답 : CHECK"
      ],
      "metadata": {
        "id": "9n92ZMnawrmT"
      }
    },
    {
      "cell_type": "markdown",
      "source": [
        "-- MySQL root 계정으로 로그인\n",
        "mysql -u root -p\n",
        "\n",
        "-- mysql 데이터베이스 사용\n",
        "USE mysql;\n",
        "\n",
        "-- 새로운 사용자 생성\n",
        "CREATE USER 'fishbread_user'@'localhost' IDENTIFIED BY 'password123';\n",
        "\n",
        "-- 사용자에게 모든 데이터베이스에 대한 모든 권한 부여\n",
        "GRANT ALL PRIVILEGES ON *.* TO 'fishbread_user'@'localhost';\n",
        "\n",
        "-- 권한 적용\n",
        "FLUSH PRIVILEGES;\n",
        "\n",
        "-- 부여된 권한 확인\n",
        "SHOW GRANTS FOR 'fishbread_user'@'localhost';\n"
      ],
      "metadata": {
        "id": "36wDbH87lJS8"
      }
    },
    {
      "cell_type": "markdown",
      "source": [
        "-- 데이터베이스 생성\n",
        "CREATE DATABASE fishbread_db;\n",
        "\n",
        "-- 데이터베이스 사용\n",
        "USE fishbread_db;"
      ],
      "metadata": {
        "id": "EOfsjm9tlLCD"
      }
    },
    {
      "cell_type": "markdown",
      "source": [
        "CREATE TABLE users (\n",
        "    user_id INT AUTO_INCREMENT PRIMARY KEY,\n",
        "    name VARCHAR(255) NOT NULL,\n",
        "    age INT NOT NULL,\n",
        "    email VARCHAR(100) UNIQUE,\n",
        "    is_business BOOLEAN DEFAULT FALSE\n",
        ");\n"
      ],
      "metadata": {
        "id": "zMpF0g_xlN-E"
      }
    },
    {
      "cell_type": "markdown",
      "source": [
        "CREATE TABLE orders (\n",
        "    order_id INT AUTO_INCREMENT PRIMARY KEY,\n",
        "    user_id INT,\n",
        "    order_date DATE,\n",
        "    amount DECIMAL(10, 2),\n",
        "    FOREIGN KEY (user_id) REFERENCES users(user_id)\n",
        ");\n"
      ],
      "metadata": {
        "id": "dnNw1AEalQh1"
      }
    },
    {
      "cell_type": "markdown",
      "source": [
        "CREATE TABLE inventory (\n",
        "    item_id INT AUTO_INCREMENT PRIMARY KEY,\n",
        "    item_name VARCHAR(255) NOT NULL,\n",
        "    quantity INT NOT NULL\n",
        ");\n"
      ],
      "metadata": {
        "id": "hR4AX8HBlZ9j"
      }
    },
    {
      "cell_type": "markdown",
      "source": [
        "CREATE TABLE sales (\n",
        "    sale_id INT AUTO_INCREMENT PRIMARY KEY,\n",
        "    order_id INT,\n",
        "    item_id INT,\n",
        "    quantity_sold INT NOT NULL,\n",
        "    FOREIGN KEY (order_id) REFERENCES orders(order_id),\n",
        "    FOREIGN KEY (item_id) REFERENCES inventory(item_id)\n",
        ");\n"
      ],
      "metadata": {
        "id": "JrRnPA9_lkxb"
      }
    },
    {
      "cell_type": "markdown",
      "source": [
        "CREATE TABLE daily_sales (\n",
        "    date DATE PRIMARY KEY,\n",
        "    total_sales DECIMAL(10, 2) NOT NULL\n",
        ");"
      ],
      "metadata": {
        "id": "fv9aS-vKlm_r"
      }
    }
  ]
}