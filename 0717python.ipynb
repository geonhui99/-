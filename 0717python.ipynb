{
  "nbformat": 4,
  "nbformat_minor": 0,
  "metadata": {
    "colab": {
      "provenance": [],
      "authorship_tag": "ABX9TyOFhIIPyrowbWQ6mAiMjO+N",
      "include_colab_link": true
    },
    "kernelspec": {
      "name": "python3",
      "display_name": "Python 3"
    },
    "language_info": {
      "name": "python"
    }
  },
  "cells": [
    {
      "cell_type": "markdown",
      "metadata": {
        "id": "view-in-github",
        "colab_type": "text"
      },
      "source": [
        "<a href=\"https://colab.research.google.com/github/geonhui99/-/blob/main/0717python.ipynb\" target=\"_parent\"><img src=\"https://colab.research.google.com/assets/colab-badge.svg\" alt=\"Open In Colab\"/></a>"
      ]
    },
    {
      "cell_type": "code",
      "execution_count": null,
      "metadata": {
        "id": "HsKo4vz8qilr"
      },
      "outputs": [],
      "source": [
        "{\n",
        " \"cells\": [\n",
        "  {\n",
        "   \"cell_type\": \"markdown\",\n",
        "   \"metadata\": {},\n",
        "   \"source\": [\n",
        "    \"안녕하세요. 수강생 여러분~! Chapter33 ~ 41 수업은 잘 들으셨나요?\\n\",\n",
        "    \"\\n\",\n",
        "    \"Chapter33 ~ 41의 수업 내용을 바탕으로 아래 문제를 풀어주시면 됩니다.\\n\",\n",
        "    \"\\n\",\n",
        "    \"\\n\",\n",
        "    \"<br>\\n\",\n",
        "    \"\\n\",\n",
        "    \"\\n\",\n",
        "    \"[**답변 입력 방법**]\\n\",\n",
        "    \"\\n\",\n",
        "    \"문제 아래에 있는 코드 입력창에 정답코드를 작성하신 후  __▷ 버튼을 클릭해 코드를 실행__ 해보세요<br>\""
      ]
    },
    {
      "cell_type": "markdown",
      "source": [
        "\"안녕하세요. 수강생 여러분~! Chapter33 ~ 41 수업은 잘 들으셨나요?\\n\",\n",
        "\n",
        "    \"Chapter33 ~ 41의 수업 내용을 바탕으로 아래 문제를 풀어주시면 됩니다.\n",
        "    \"[**답변 입력 방법**]\n",
        "    \"문제 아래에 있는 코드 입력창에 정답코드를 작성하신 후  __▷ 버튼을 클릭해 코드를 실행__ 해보세요"
      ],
      "metadata": {
        "id": "61U11j6gvEIs"
      }
    },
    {
      "cell_type": "markdown",
      "source": [
        " \"[문제 1]\\n\",\n",
        "    \"\\n\",\n",
        "    \"사용자로부터 두 개의 숫자를 입력받아 나눗셈을 수행하는 프로그램을 작성하세요. \\n\",\n",
        "    \"\\n\",\n",
        "    \"[예외처리]\\n\",\n",
        "    \"- 입력 값이 숫자가 아닐 때 발생할 수 있는 ValueError\\n\",\n",
        "    \"- 나누는 수가 0일 때 발생할 수 있는 ZeroDivisionError\\n\",\n",
        "    \"- 위 2가지 예외처리 후 사용자에게 이해하기 쉬운 메시지 작성 후 출력되도록 코드를 작성\""
      ],
      "metadata": {
        "id": "_0aaz7JBvQUh"
      }
    },
    {
      "cell_type": "code",
      "source": [
        "try:\n",
        "    # 사용자로부터 두 개의 숫자를 입력받음\n",
        "    num1 = float(input(\"첫 번째 숫자를 입력하세요: \"))\n",
        "    num2 = float(input(\"두 번째 숫자를 입력하세요: \"))\n",
        "\n",
        "    # 나눗셈 연산\n",
        "    result = (num1 / num2)\n",
        "    print(f\"결과: {result}\")\n",
        "\n",
        "except ValueError:\n",
        "    print(\"숫자가 아닌 값을 입력하셨습니다. 숫자만 입력해 주세요.\")\n",
        "\n",
        "except ZeroDivisionError:\n",
        "    print(\"0으로는 나눌 수 없습니다. 두 번째 숫자는 0이 아니어야 합니다.\")"
      ],
      "metadata": {
        "colab": {
          "base_uri": "https://localhost:8080/"
        },
        "id": "z0KyWEtcvbT3",
        "outputId": "537e313a-5109-4aef-eecb-bf2ab18e2f94"
      },
      "execution_count": 10,
      "outputs": [
        {
          "output_type": "stream",
          "name": "stdout",
          "text": [
            "첫 번째 숫자를 입력하세요: 10\n",
            "두 번째 숫자를 입력하세요: 0\n",
            "0으로는 나눌 수 없습니다. 두 번째 숫자는 0이 아니어야 합니다.\n"
          ]
        }
      ]
    },
    {
      "cell_type": "markdown",
      "source": [
        " \"[문제 2]\n",
        "    \"파일을 읽어서 내용을 출력하는 프로그램을 작성하세요.\n",
        "    \"- 파일이 존재하지 않을 때 발생하는 FileNotFoundError를 처리\"\n",
        "    \"- 파일이 존재하지 않을 경우 \\\"파일을 찾을 수 없습니다.\\\"라는 메시지를 출력\""
      ],
      "metadata": {
        "id": "vwnR8_zv3sCd"
      }
    },
    {
      "cell_type": "code",
      "source": [
        "try:\n",
        "    filename = input(\"읽을 파일 이름을 입력하세요: \")  # 사용자로부터 파일 이름을 입력받음\n",
        "    with open(filename, \"r\") as f:  # 파일을 읽기 모드로 엽니다.\n",
        "        content = f.read()  # 파일 전체 내용을 읽어옵니다.\n",
        "        print(content)      # 읽은 내용을 출력합니다.\n",
        "\n",
        "except FileNotFoundError:\n",
        "    print(\"파일을 찾을 수 없습니다.\")  # 파일이 없을 때 안내 메시지 출력"
      ],
      "metadata": {
        "colab": {
          "base_uri": "https://localhost:8080/"
        },
        "id": "zFIzHreR3xRj",
        "outputId": "2c142d26-1627-4b61-f738-9d8fe83a4fe1"
      },
      "execution_count": 18,
      "outputs": [
        {
          "output_type": "stream",
          "name": "stdout",
          "text": [
            "읽을 파일 이름을 입력하세요: oo.txt\n",
            "파일을 찾을 수 없습니다.\n"
          ]
        }
      ]
    },
    {
      "cell_type": "markdown",
      "source": [
        " \"[문제 3]\\n\",\n",
        "    \"\\n\",\n",
        "    \"사용자로부터 여러 개의 숫자를 입력받아 리스트에 저장한 후, 사용자가 'done'이라고 입력할 때까지 계속 입력받으세요. \\n\",\n",
        "    \"\\n\",\n",
        "    \"- 입력 중 숫자가 아닌 값이 입력되면 ValueError를 처리\\n\",\n",
        "    \"- 숫자 외 값이 입력된 경우 어떤 값이 잘못 입력되었는지 사용자에게 알려주는 문구 출력<br>\\n\",\n",
        "    \"  (예: f\\\"잘못된 값: {변수}. 숫자를 입력해주세요.\\\")\\n\","
      ],
      "metadata": {
        "id": "88E95y6DDIbN"
      }
    },
    {
      "cell_type": "code",
      "source": [
        "numbers = []  # 입력받은 숫자를 저장할 빈 리스트 생성\n",
        "\n",
        "while True:\n",
        "    user_input = input(\"숫자를 입력하세요(종료하려면 'done' 입력): \")\n",
        "\n",
        "    if user_input == 'done':\n",
        "        break  # 'done' 입력 시 반복문 종료\n",
        "\n",
        "    try:\n",
        "        num = float(user_input)  # 입력값을 숫자로 변환\n",
        "        numbers.append(num)      # 변환 성공 시 리스트에 추가\n",
        "    except ValueError:\n",
        "        print(f\"잘못된 값: {user_input}. 숫자를 입력해주세요.\")  # 안내문 출력\n",
        "\n",
        "print(\"입력한 숫자들:\", numbers)  # 결과 출력"
      ],
      "metadata": {
        "colab": {
          "base_uri": "https://localhost:8080/"
        },
        "id": "Ma7LQeA2DJ7o",
        "outputId": "60686889-29f8-48e8-c685-b45a754a7f10"
      },
      "execution_count": 20,
      "outputs": [
        {
          "output_type": "stream",
          "name": "stdout",
          "text": [
            "숫자를 입력하세요(종료하려면 'done' 입력): 1\n",
            "숫자를 입력하세요(종료하려면 'done' 입력): 2\n",
            "숫자를 입력하세요(종료하려면 'done' 입력): 3\n",
            "숫자를 입력하세요(종료하려면 'done' 입력): 4\n",
            "숫자를 입력하세요(종료하려면 'done' 입력): \n",
            "잘못된 값: . 숫자를 입력해주세요.\n",
            "숫자를 입력하세요(종료하려면 'done' 입력): 5\n",
            "숫자를 입력하세요(종료하려면 'done' 입력): 6\n",
            "숫자를 입력하세요(종료하려면 'done' 입력): DONe\n",
            "잘못된 값: DONe. 숫자를 입력해주세요.\n",
            "숫자를 입력하세요(종료하려면 'done' 입력): done\n",
            "입력한 숫자들: [1.0, 2.0, 3.0, 4.0, 5.0, 6.0]\n"
          ]
        }
      ]
    },
    {
      "cell_type": "markdown",
      "source": [
        "  \"[문제 4]\\n\",\n",
        "    \"\\n\",\n",
        "    \"사용자 정의 예외 NegativeNumberError를 생성하고, 사용자로부터 숫자를 입력받아 음수일 경우 NegativeNumberError를 발생시키는 프로그램을 작성하세요. \\n\",\n",
        "    \"\\n\",\n",
        "    \"- 예외 처리 구문을 사용하여 음수 입력 시 \\\"양수를 입력해주세요.\\\"라는 메시지를 출력\""
      ],
      "metadata": {
        "id": "gg2pyHbSLyo3"
      }
    },
    {
      "cell_type": "code",
      "source": [
        "# 1. 사용자 정의 예외 클래스 만들기\n",
        "class NegativeNumberError(Exception):\n",
        "    pass  # 내용이 없을 때는 pass로 비워둡니다.\n",
        "\n",
        "try:\n",
        "    num = float(input(\"숫자를 입력하세요: \"))  # 숫자 입력받기\n",
        "\n",
        "    if num < 0:\n",
        "        raise NegativeNumberError  # 음수면 직접 예외 발생시키기\n",
        "\n",
        "    print(f\"입력한 숫자: {num}\")\n",
        "\n",
        "except NegativeNumberError:\n",
        "    print(\"양수를 입력해주세요.\")  # 음수 입력 시 안내 메시지\n",
        "\n",
        "except ValueError:\n",
        "    print(\"올바른 숫자를 입력해주세요.\")  # 숫자가 아닌 값 입력 시 안내 메시지"
      ],
      "metadata": {
        "colab": {
          "base_uri": "https://localhost:8080/"
        },
        "id": "YZEWUzpsLzsr",
        "outputId": "d6b9e518-63d2-4b86-abea-bc8b8f37e09c"
      },
      "execution_count": 23,
      "outputs": [
        {
          "output_type": "stream",
          "name": "stdout",
          "text": [
            "숫자를 입력하세요: -1\n",
            "양수를 입력해주세요.\n"
          ]
        }
      ]
    },
    {
      "cell_type": "markdown",
      "source": [
        "   \"[문제 5]\\n\",\n",
        "    \"\\n\",\n",
        "    \"datetime 모듈을 사용하여 현재 날짜와 시간을 출력하는 프로그램을 작성하세요. \\n\",\n",
        "    \"\\n\",\n",
        "    \"또한, 사용자로부터 태어난 년도를 입력받아 현재 나이를 계산하여 출력하세요.\""
      ],
      "metadata": {
        "id": "CpnD4taKNGXp"
      }
    },
    {
      "cell_type": "code",
      "source": [
        "import datetime  # 1. datetime 모듈 불러오기\n",
        "\n",
        "# 2. 현재 날짜와 시간 구하기\n",
        "now = datetime.datetime.now()\n",
        "print(\"현재 날짜와 시간:\", now)\n",
        "\n",
        "# 3. 사용자로부터 태어난 년도 입력받기\n",
        "birth_year = int(input(\"태어난 년도를 입력하세요(예: 2000): \"))\n",
        "\n",
        "# 4. 현재 연도 구하기\n",
        "current_year = now.year\n",
        "\n",
        "# 5. 나이 계산\n",
        "age = current_year - birth_year\n",
        "\n",
        "print(f\"당신의 나이는 만 {age}세입니다.\")"
      ],
      "metadata": {
        "colab": {
          "base_uri": "https://localhost:8080/"
        },
        "id": "rrHUQVbGNMDL",
        "outputId": "58282b83-aefb-4629-b52c-270cdefed775"
      },
      "execution_count": 25,
      "outputs": [
        {
          "output_type": "stream",
          "name": "stdout",
          "text": [
            "현재 날짜와 시간: 2025-07-17 07:09:39.684644\n",
            "태어난 년도를 입력하세요(예: 2000): 1999\n",
            "당신의 나이는 만 26세입니다.\n"
          ]
        }
      ]
    },
    {
      "cell_type": "markdown",
      "source": [
        " \"[문제 6]\\n\",\n",
        "    \"\\n\",\n",
        "    \"requests 모듈을 사용하여, 웹 페이지의 HTML을 가져오는 간단한 웹 스크레이퍼를 작성하세요.\\n\",\n",
        "    \"\\n\",\n",
        "    \"'https://kream.co.kr/'에서<br> \\n\",\n",
        "    \"데이터를 가져와서 상태 코드와 HTML의 첫 100자를 출력하세요.<br>\\n\",\n",
        "    \"(실습 전 requests 모듈을 설치해야 함)\""
      ],
      "metadata": {
        "id": "4armC54SOJBS"
      }
    },
    {
      "cell_type": "code",
      "source": [
        "import requests  # 1. requests 모듈 불러오기\n",
        "\n",
        "url = 'https://kream.co.kr/'  # 2. 가져올 웹 페이지 주소\n",
        "\n",
        "response = requests.get(url)  # 3. GET 요청을 보내서 웹페이지 정보 받아오기\n",
        "\n",
        "print(\"상태 코드:\", response.status_code)         # 4. 상태 코드 출력 (200이면 정상)\n",
        "print(\"HTML 앞 100자:\", response.text[:100])      # 5. HTML 내용 앞 100글자 출력"
      ],
      "metadata": {
        "colab": {
          "base_uri": "https://localhost:8080/"
        },
        "id": "xMJqOYCNOf1o",
        "outputId": "061a6faa-05b8-46ff-9ebc-6305537a273b"
      },
      "execution_count": 28,
      "outputs": [
        {
          "output_type": "stream",
          "name": "stdout",
          "text": [
            "상태 코드: 500\n",
            "HTML 앞 100자: <!DOCTYPE html>\n",
            "<html lang=\"ko\">\n",
            "<head>\n",
            "<meta name=\"robots\" content=\"noindex, nofollow\" />\n",
            "<meta htt\n"
          ]
        }
      ]
    },
    {
      "cell_type": "markdown",
      "source": [
        " \"[문제 7]\\n\",\n",
        "    \"\\n\",\n",
        "    \"함수 실행 시간을 측정하는 데코레이터 timer_decorator를 작성하세요. \\n\",\n",
        "    \"\\n\",\n",
        "    \"임의의 함수가 실행되는 시간을 측정하여 \\\"함수 실행 시간: x.xx초\\\" 형태로 출력하세요.\""
      ],
      "metadata": {
        "id": "d1R_balkPeZv"
      }
    },
    {
      "cell_type": "code",
      "source": [
        "import time  # 1. 시간 측정을 위한 time 모듈 불러오기\n",
        "\n",
        "# 2. 함수 실행 시간을 재는 데코레이터 정의\n",
        "def timer_decorator(func):\n",
        "    def wrapper(*args, **kwargs):\n",
        "        start = time.time()        # 함수 실행 전 시간 기록\n",
        "        result = func(*args, **kwargs)  # 함수 실행\n",
        "        end = time.time()          # 함수 실행 후 시간 기록\n",
        "        print(f\"함수 실행 시간: {end - start:.2f}초\")  # 소요 시간 출력 (소수점 둘째자리까지)\n",
        "        return result              # 함수 결과 반환\n",
        "    return wrapper\n",
        "\n",
        "# 3. 예시로 사용할 함수\n",
        "@timer_decorator\n",
        "def example():\n",
        "    for _ in range(1000000):\n",
        "        pass  # 단순 반복\n",
        "\n",
        "example()  # 함수 호출 시, 실행 시간도 같이 출력됨"
      ],
      "metadata": {
        "colab": {
          "base_uri": "https://localhost:8080/"
        },
        "id": "f1Wun6UQPfEm",
        "outputId": "88f9c37c-735b-44ba-f5b7-6016a7cf8e7c"
      },
      "execution_count": 35,
      "outputs": [
        {
          "output_type": "stream",
          "name": "stdout",
          "text": [
            "함수 실행 시간: 0.02초\n"
          ]
        }
      ]
    },
    {
      "cell_type": "markdown",
      "source": [
        "\"[문제 8]\\n\",\n",
        "    \"\\n\",\n",
        "    \"여러분이 자주 사용하는 수학적 연산<br>\\n\",\n",
        "    \"(예: 삼각형 넓이, 원의 넓이, 직육면체의 넓이)을 수행하는 함수들을 포함하는 mymath.py라는 이름의 모듈을 만드세요. \\n\",\n",
        "    \"\\n\",\n",
        "    \"이 모듈을 사용하여 작성된 함수들을 실제로 임포트하고 사용하는 간단한 프로그램을 작성하세요.\""
      ],
      "metadata": {
        "id": "oqekk0U7PwLC"
      }
    },
    {
      "cell_type": "code",
      "source": [
        "import mymath  # 1. 내가 만든 mymath.py 모듈 불러오기\n",
        "\n",
        "# 2. 함수 사용해보기\n",
        "print(\"삼각형 넓이:\", mymath.triangle_area(5, 10))\n",
        "print(\"원의 넓이:\", mymath.circle_area(3))\n",
        "print(\"직사각형 넓이:\", mymath.rect_area(4, 8))"
      ],
      "metadata": {
        "colab": {
          "base_uri": "https://localhost:8080/"
        },
        "id": "nhSRNWMHUIzX",
        "outputId": "c8b9e573-3729-43b1-da6e-db867d772b7e"
      },
      "execution_count": 56,
      "outputs": [
        {
          "output_type": "stream",
          "name": "stdout",
          "text": [
            "삼각형 넓이: 25.0\n",
            "원의 넓이: 28.274328000000004\n",
            "직사각형 넓이: 32\n"
          ]
        }
      ]
    },
    {
      "cell_type": "markdown",
      "source": [
        "    \"[문제 9]\\n\",\n",
        "    \"\\n\",\n",
        "    \"animals라는 패키지를 만들고, 이 패키지 내에 mammals, birds라는 두 개의 서브 모듈을 생성하세요. \\n\",\n",
        "    \"\\n\",\n",
        "    \"- 각 모듈에는 최소한 한 개 이상의 동물에 관한 클래스를 정의하세요<br>\\n\",\n",
        "    \"  (예: mammals에는 Dog, birds에는 Eagle)\\n\",\n",
        "    \"- 이 패키지와 모듈을 사용하여 동물들의 정보를 출력하는 프로그램을 작성\\n\",\n",
        "    \"\\n\",\n",
        "    \"폴더 및 파일 구조\\n\",\n",
        "    \"```\\n\",\n",
        "    \"animals/(폴더)\\n\",\n",
        "    \"├── __init__.py\\n\",\n",
        "    \"├── mammals.py\\n\",\n",
        "    \"└── birds.py\\n\","
      ],
      "metadata": {
        "id": "emfQKImxWJ3U"
      }
    },
    {
      "cell_type": "code",
      "source": [
        "from animals.mammals import Dog\n",
        "from animals.birds import Eagle\n",
        "\n",
        "dog = Dog()\n",
        "eagle = Eagle()\n",
        "\n",
        "print(f\"{str(dog)}: {dog.speak()}\")\n",
        "print(f\"{str(eagle)}: {eagle.speak()}\")"
      ],
      "metadata": {
        "id": "Kw6KpTAUafUx"
      },
      "execution_count": null,
      "outputs": []
    }
  ]
}