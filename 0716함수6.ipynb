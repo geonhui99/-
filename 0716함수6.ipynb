{
  "nbformat": 4,
  "nbformat_minor": 0,
  "metadata": {
    "colab": {
      "provenance": [],
      "authorship_tag": "ABX9TyNU3zRCIkaWIe0yh1OzS4Yh",
      "include_colab_link": true
    },
    "kernelspec": {
      "name": "python3",
      "display_name": "Python 3"
    },
    "language_info": {
      "name": "python"
    }
  },
  "cells": [
    {
      "cell_type": "markdown",
      "metadata": {
        "id": "view-in-github",
        "colab_type": "text"
      },
      "source": [
        "<a href=\"https://colab.research.google.com/github/geonhui99/-/blob/main/0716%ED%95%A8%EC%88%986.ipynb\" target=\"_parent\"><img src=\"https://colab.research.google.com/assets/colab-badge.svg\" alt=\"Open In Colab\"/></a>"
      ]
    },
    {
      "cell_type": "code",
      "execution_count": null,
      "metadata": {
        "id": "GxaPSNtjmbfg"
      },
      "outputs": [],
      "source": [
        "\n",
        "    \"안녕하세요. 수강생 여러분~! Chapter21 ~ 32 수업은 잘 들으셨나요?\\n\",\n",
        "\n",
        "    \"Chapter21 ~ 32의 수업 내용을 바탕으로 아래 문제를 풀어주시면 됩니다.\\n\",\n",
        "\n",
        "    \"[**답변 입력 방법**]\\n\",\n",
        "    \"\\n\",\n",
        "    \"문제 아래에 있는 코드 입력창에 정답코드를 작성하신 후  __▷ 버튼을 클릭해 코드를 실행__ 해보세요<br>\""
      ]
    },
    {
      "cell_type": "markdown",
      "source": [
        "{\n",
        " \"cells\": [\n",
        "  {\n",
        "   \"cell_type\": \"markdown\",\n",
        "   \"metadata\": {},\n",
        "   \"source\": [\n",
        "    \"안녕하세요. 수강생 여러분~! Chapter21 ~ 32 수업은 잘 들으셨나요?\\n\",\n",
        "    \"\\n\",\n",
        "    \"Chapter21 ~ 32의 수업 내용을 바탕으로 아래 문제를 풀어주시면 됩니다.\\n\",\n",
        "    \"\\n\",\n",
        "    \"\\n\",\n",
        "    \"<br>\\n\",\n",
        "    \"\\n\",\n",
        "    \"\\n\",\n",
        "    \"[**답변 입력 방법**]\\n\",\n",
        "    \"\\n\",\n",
        "    \"문제 아래에 있는 코드 입력창에 정답코드를 작성하신 후  __▷ 버튼을 클릭해 코드를 실행__ 해보세요<br>\"\n",
        "   ]\n",
        "  },\n",
        "  {\n",
        "   \"cell_type\": \"markdown\",\n",
        "   \"metadata\": {},\n",
        "   \"source\": [\n",
        "    \"---\"\n",
        "   ]\n",
        "  },\n",
        "  {\n",
        "   \"cell_type\": \"markdown\",\n",
        "   \"metadata\": {},\n",
        "   \"source\": ["
      ],
      "metadata": {
        "id": "gQdbg1XumpGn"
      }
    },
    {
      "cell_type": "markdown",
      "source": [
        "    \"[문제 1]\\n\",\n",
        "    \"사용자로부터 이름과 나이를 입력 받아, \\\"안녕하세요, [이름]님! 당신은 [나이]살입니다.\\\"라고 출력하는 함수 greet_user를 작성하세요.\""
      ],
      "metadata": {
        "id": "QZAVIFpUm30U"
      }
    },
    {
      "cell_type": "code",
      "source": [
        "def greet_user():\n",
        "    name = input(\"이름을 입력하세요: \")\n",
        "    age = input(\"나이를 입력하세요: \")\n",
        "    print(f\"안녕하세요, {name}님! 당신은 {age}살입니다.\")\n",
        "\n",
        "greet_user()"
      ],
      "metadata": {
        "colab": {
          "base_uri": "https://localhost:8080/"
        },
        "id": "IfIOK6fDqSRe",
        "outputId": "757d6a75-bba5-425b-e3f6-50594763cc82"
      },
      "execution_count": 119,
      "outputs": [
        {
          "output_type": "stream",
          "name": "stdout",
          "text": [
            "이름을 입력하세요: 이건희\n",
            "나이를 입력하세요: 27\n",
            "안녕하세요, 이건희님! 당신은 27살입니다.\n"
          ]
        }
      ]
    },
    {
      "cell_type": "markdown",
      "source": [
        "  \"[문제 2] 여러 숫자를 입력받아 그 합계를 반환하는 함수 sum_numbers를 작성하세요. 이 때, 가변 매개변수를 사용하세요.\""
      ],
      "metadata": {
        "id": "YTGJB7P3qrhd"
      }
    },
    {
      "cell_type": "code",
      "source": [
        "def sum_numbers(*numbers):\n",
        "    return sum(numbers)\n",
        "\n",
        "result = sum_numbers(1, 2, 3, 4, 5, 6, 7, 8, 9, 10)\n",
        "print(\"합계:\", result)"
      ],
      "metadata": {
        "colab": {
          "base_uri": "https://localhost:8080/"
        },
        "id": "G9aHWB3Jqz0S",
        "outputId": "b50a68e4-80be-4a7b-fc35-a9de509e8f20"
      },
      "execution_count": 120,
      "outputs": [
        {
          "output_type": "stream",
          "name": "stdout",
          "text": [
            "합계: 55\n"
          ]
        }
      ]
    },
    {
      "cell_type": "markdown",
      "source": [
        " \"[문제 3] 사용자의 이름을 출력하는 함수 print_name을 작성하세요. 만약 이름이 주어지지 않았다면, 기본값으로 \\\"익명\\\"을 사용하세요.\""
      ],
      "metadata": {
        "id": "GtZf-7rjrmxI"
      }
    },
    {
      "cell_type": "code",
      "source": [
        "def print_name(name=\"익명\"):\n",
        "    print(f\"이름:{name}\")\n",
        "\n",
        "print_name(\"건희\")\n",
        "print_name()"
      ],
      "metadata": {
        "colab": {
          "base_uri": "https://localhost:8080/"
        },
        "id": "YK_87JGerslR",
        "outputId": "b7d8ad45-6900-4f42-cb14-bc75002f0997"
      },
      "execution_count": 121,
      "outputs": [
        {
          "output_type": "stream",
          "name": "stdout",
          "text": [
            "이름:건희\n",
            "이름:익명\n"
          ]
        }
      ]
    },
    {
      "cell_type": "markdown",
      "source": [
        "\"[문제 4] 사용자의 이름, 나이, 성별을 출력하는 함수 print_info를 작성하세요. 이 때, 모든 매개변수는 키워드 매개변수로만 받도록 하세요.\""
      ],
      "metadata": {
        "id": "BIk98h7ZsnsH"
      }
    },
    {
      "cell_type": "code",
      "source": [
        "def print_info(*, name, age, gender):\n",
        "    print(f\"이름:{name}\")\n",
        "    print(f\"나이:{age}\")\n",
        "    print(f\"성별:{gender}\")\n",
        "\n",
        "print_info(name=\"건희\", age=27, gender=\"남자\")"
      ],
      "metadata": {
        "colab": {
          "base_uri": "https://localhost:8080/"
        },
        "id": "NOPPBTUDspgC",
        "outputId": "a252c4c5-eb3a-47a1-a895-0241fd43913d"
      },
      "execution_count": 122,
      "outputs": [
        {
          "output_type": "stream",
          "name": "stdout",
          "text": [
            "이름:건희\n",
            "나이:27\n",
            "성별:남자\n"
          ]
        }
      ]
    },
    {
      "cell_type": "markdown",
      "source": [
        " \"[문제 5] 두 개의 정수를 받아 합을 반환하는 함수 add를 작성하세요. 매개변수와 반환값에 타입 어노테이션을 추가하세요.\""
      ],
      "metadata": {
        "id": "pRjBE_IWuWlI"
      }
    },
    {
      "cell_type": "code",
      "source": [
        "def add(a:int, b:int):\n",
        "    return a + b\n",
        "\n",
        "result = add(7, 3)\n",
        "print(\"합:\", result)"
      ],
      "metadata": {
        "colab": {
          "base_uri": "https://localhost:8080/"
        },
        "id": "j8NQ2NM8uXND",
        "outputId": "8446ca0f-6059-4cc2-8fb3-d8d9f57677ec"
      },
      "execution_count": 123,
      "outputs": [
        {
          "output_type": "stream",
          "name": "stdout",
          "text": [
            "합: 10\n"
          ]
        }
      ]
    },
    {
      "cell_type": "markdown",
      "source": [
        "\"[문제 6] 0부터 시작하여 n까지의 숫자 중에서 홀수만 생성하는 제너레이터 odd_numbers를 작성하세요.\""
      ],
      "metadata": {
        "id": "RFDvd9uZwCUR"
      }
    },
    {
      "cell_type": "code",
      "source": [
        "def odd_numbers(n):\n",
        "    for i in range(0, n+1):\n",
        "        if i % 2 == 1:\n",
        "            yield i\n",
        "\n",
        "for num in odd_numbers(20):\n",
        "    print(num)"
      ],
      "metadata": {
        "colab": {
          "base_uri": "https://localhost:8080/"
        },
        "id": "2wsw4i6UwC_d",
        "outputId": "6d93a795-21e3-43c7-c758-5d68697e8603"
      },
      "execution_count": 124,
      "outputs": [
        {
          "output_type": "stream",
          "name": "stdout",
          "text": [
            "1\n",
            "3\n",
            "5\n",
            "7\n",
            "9\n",
            "11\n",
            "13\n",
            "15\n",
            "17\n",
            "19\n"
          ]
        }
      ]
    },
    {
      "cell_type": "markdown",
      "source": [
        "\"[문제 7] 두 숫자를 더하는 람다 함수를 작성하고, 이를 변수에 할당한 후 사용하세요.\""
      ],
      "metadata": {
        "id": "fcMlSwpkxHfT"
      }
    },
    {
      "cell_type": "code",
      "source": [
        "add = lambda a, b: a + b\n",
        "\n",
        "result = add(2, 3)\n",
        "print(\"합:\", result)"
      ],
      "metadata": {
        "colab": {
          "base_uri": "https://localhost:8080/"
        },
        "id": "lD91Yii9xL3i",
        "outputId": "b1081bc1-caa9-4589-cbc8-22822cc6d795"
      },
      "execution_count": 125,
      "outputs": [
        {
          "output_type": "stream",
          "name": "stdout",
          "text": [
            "합: 5\n"
          ]
        }
      ]
    },
    {
      "cell_type": "markdown",
      "source": [
        "\"[문제 8] 사용자로부터 3개의 숫자를 입력받아, 이를 튜플로 만든 후 최소값과 최대값을 출력하는 함수 min_max를 작성하세요.\""
      ],
      "metadata": {
        "id": "Tjb_AcSvyEWj"
      }
    },
    {
      "cell_type": "code",
      "source": [
        "def min_max():\n",
        "    a = int(input(\"첫 번째 숫자 입력: \"))\n",
        "    b = int(input(\"두 번째 숫자 입력: \"))\n",
        "    c = int(input(\"세 번째 숫자 입력: \"))\n",
        "    numbers = (a, b, c)\n",
        "    print(\"입력한 숫자들:\", numbers)\n",
        "    print(\"최소값:\", min(numbers))\n",
        "    print(\"최대값:\", max(numbers))\n",
        "\n",
        "\n",
        "min_max()"
      ],
      "metadata": {
        "colab": {
          "base_uri": "https://localhost:8080/"
        },
        "id": "IvI6q1EAyIIB",
        "outputId": "2da8552e-fdf4-45d4-b3b1-6ef7e7eee72a"
      },
      "execution_count": 126,
      "outputs": [
        {
          "output_type": "stream",
          "name": "stdout",
          "text": [
            "첫 번째 숫자 입력: 3\n",
            "두 번째 숫자 입력: 2\n",
            "세 번째 숫자 입력: 1\n",
            "입력한 숫자들: (3, 2, 1)\n",
            "최소값: 1\n",
            "최대값: 3\n"
          ]
        }
      ]
    },
    {
      "cell_type": "markdown",
      "source": [
        "\"[문제 9] 주어진 숫자가 짝수인지 확인하는 함수 is_even을 작성하세요. 짝수라면 True를, 아니라면 False를 반환하세요. 함수 내에서 조기 리턴을 활용하세요.\""
      ],
      "metadata": {
        "id": "uZnepK8CzCdx"
      }
    },
    {
      "cell_type": "code",
      "source": [
        "def is_even(n):\n",
        "    if n % 2 == 0:\n",
        "        return True\n",
        "    return False\n",
        "\n",
        "\n",
        "print(is_even(2))\n",
        "print(is_even(7))\n",
        "print(is_even(9))\n",
        "print(is_even(6))"
      ],
      "metadata": {
        "colab": {
          "base_uri": "https://localhost:8080/"
        },
        "id": "z8-m-t47zGyV",
        "outputId": "075de43e-2fe5-4606-e68e-204a2576e9b6"
      },
      "execution_count": 127,
      "outputs": [
        {
          "output_type": "stream",
          "name": "stdout",
          "text": [
            "True\n",
            "False\n",
            "False\n",
            "True\n"
          ]
        }
      ]
    },
    {
      "cell_type": "markdown",
      "source": [
        " \"[문제 10] 팩토리얼을 계산하는 재귀 함수 factorial을 작성하세요.\""
      ],
      "metadata": {
        "id": "viGd4-W9zvFA"
      }
    },
    {
      "cell_type": "code",
      "source": [
        "def factorial(n):\n",
        "    if n == 0 or n == 1:\n",
        "        return 1\n",
        "    return n * factorial(n - 1)\n",
        "\n",
        "print(factorial(0))\n",
        "print(factorial(1))\n",
        "print(factorial(3))\n",
        "print(factorial(4))"
      ],
      "metadata": {
        "colab": {
          "base_uri": "https://localhost:8080/"
        },
        "id": "EElU4k_5zvlz",
        "outputId": "f846f673-428d-414a-c79d-1ca34407e467"
      },
      "execution_count": 128,
      "outputs": [
        {
          "output_type": "stream",
          "name": "stdout",
          "text": [
            "1\n",
            "1\n",
            "6\n",
            "24\n"
          ]
        }
      ]
    },
    {
      "cell_type": "markdown",
      "source": [
        "\"[문제 11] 문자열 리스트를 받아, 각 문자열의 길이를 출력하는 함수 print_lengths를 작성하세요.\""
      ],
      "metadata": {
        "id": "N2TjxxvA1bBA"
      }
    },
    {
      "cell_type": "code",
      "source": [
        "def print_lengths(strings):\n",
        "    for s in strings:\n",
        "        print(f\"'{s}'의 길이:\", len(s))\n",
        "\n",
        "words = [\"a\", \"a.\", \"a..\"]\n",
        "print_lengths(words)"
      ],
      "metadata": {
        "id": "8F4j7acQ1bjG"
      },
      "execution_count": null,
      "outputs": []
    },
    {
      "cell_type": "markdown",
      "source": [
        "\"[문제 12] 두 문자열을 받아서 긴 문자열을 반환하는 함수 longer_string을 작성하세요. 만약 두 문자열의 길이가 같다면, 첫 번째 문자열을 반환하세요.\""
      ],
      "metadata": {
        "id": "ay9WFb1L5ql1"
      }
    },
    {
      "cell_type": "code",
      "source": [
        "def longer_string(s1, s2):\n",
        "    if len(s1) > len(s2):\n",
        "        return s1\n",
        "    elif len(s1) < len(s2):\n",
        "        return s2\n",
        "    else:\n",
        "        return s1  #길이가 같으면 첫 번째 문자열 반환\n",
        "\n",
        "print(longer_string(\"abc\", \"abcd\"))\n",
        "print(longer_string(\"ab\", \"qw\")) #길이가 같으면 첫 번째 문자열 반환\n",
        "print(longer_string(\"qw\", \"qwer\"))"
      ],
      "metadata": {
        "colab": {
          "base_uri": "https://localhost:8080/"
        },
        "id": "D-Zuro0v5stv",
        "outputId": "3c533f13-3e8f-44f5-b47a-ff364bbaf933"
      },
      "execution_count": 129,
      "outputs": [
        {
          "output_type": "stream",
          "name": "stdout",
          "text": [
            "abcd\n",
            "ab\n",
            "qwer\n"
          ]
        }
      ]
    }
  ]
}