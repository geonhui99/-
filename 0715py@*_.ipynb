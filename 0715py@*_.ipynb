{
  "nbformat": 4,
  "nbformat_minor": 0,
  "metadata": {
    "colab": {
      "provenance": [],
      "authorship_tag": "ABX9TyPJYTTVoj8+R7DjX3sBc2oJ",
      "include_colab_link": true
    },
    "kernelspec": {
      "name": "python3",
      "display_name": "Python 3"
    },
    "language_info": {
      "name": "python"
    }
  },
  "cells": [
    {
      "cell_type": "markdown",
      "metadata": {
        "id": "view-in-github",
        "colab_type": "text"
      },
      "source": [
        "<a href=\"https://colab.research.google.com/github/geonhui99/-/blob/main/0715py%40*_.ipynb\" target=\"_parent\"><img src=\"https://colab.research.google.com/assets/colab-badge.svg\" alt=\"Open In Colab\"/></a>"
      ]
    },
    {
      "cell_type": "markdown",
      "source": [
        "{\n",
        " \"cells\": [\n",
        "  {\n",
        "   \"cell_type\": \"markdown\",\n",
        "   \"metadata\": {\n",
        "    \"id\": \"aLkxKxnFLowa\"\n",
        "   },\n",
        "   \"source\": [\n",
        "    \"안녕하세요. 수강생 여러분~! Chapter17 ~ 20 수업은 잘 들으셨나요?\\n\",\n",
        "    \"\\n\",\n",
        "    \"Chapter17 ~ 20의 수업 내용을 바탕으로 아래 문제를 풀어주시면 됩니다.\\n\",\n",
        "    \"\\n\",\n",
        "    \"\\n\",\n",
        "    \"<br>\\n\",\n",
        "    \"\\n\",\n",
        "    \"\\n\",\n",
        "    \"[**답변 입력 방법**]\\n\",\n",
        "    \"\\n\",\n",
        "    \"문제 아래에 있는 코드 입력창에 정답코드를 작성하신 후  __▷ 버튼을 클릭해 코드를 실행__ 해보세요<br>\"\n",
        "   ]\n",
        "  },\n",
        "  {\n",
        "   \"cell_type\": \"markdown\",\n",
        "   \"metadata\": {},\n",
        "   \"source\": [\n",
        "    \"---\"\n",
        "   ]\n",
        "  },\n",
        "  {\n",
        "   \"cell_type\": \"markdown\",\n",
        "   \"metadata\": {\n",
        "    \"id\": \"pYJ1dSggLwcG\"\n",
        "   },\n",
        "   \"source\": ["
      ],
      "metadata": {
        "id": "v0IssYbi_7q-"
      }
    },
    {
      "cell_type": "code",
      "execution_count": 30,
      "metadata": {
        "colab": {
          "base_uri": "https://localhost:8080/",
          "height": 110
        },
        "id": "_ZyjPzAa_p0m",
        "outputId": "1c8d538a-002e-4c6d-9fce-5b9d6f73c029"
      },
      "outputs": [
        {
          "output_type": "error",
          "ename": "SyntaxError",
          "evalue": "incomplete input (ipython-input-30-4121636636.py, line 33)",
          "traceback": [
            "\u001b[0;36m  File \u001b[0;32m\"/tmp/ipython-input-30-4121636636.py\"\u001b[0;36m, line \u001b[0;32m33\u001b[0m\n\u001b[0;31m    \"source\": [\u001b[0m\n\u001b[0m               ^\u001b[0m\n\u001b[0;31mSyntaxError\u001b[0m\u001b[0;31m:\u001b[0m incomplete input\n"
          ]
        }
      ],
      "source": [
        "{\"cells\": [\n",
        "  {\n",
        "   \"cell_type\": \"markdown\",\n",
        "   \"metadata\": {\n",
        "    \"id\": \"aLkxKxnFLowa\"\n",
        "   },\n",
        "   \"source\": [\n",
        "    \"안녕하세요. 수강생 여러분~! Chapter17 ~ 20 수업은 잘 들으셨나요?\\n\",\n",
        "    \"\\n\",\n",
        "    \"Chapter17 ~ 20의 수업 내용을 바탕으로 아래 문제를 풀어주시면 됩니다.\\n\",\n",
        "    \"\\n\",\n",
        "    \"\\n\",\n",
        "    \"<br>\\n\",\n",
        "    \"\\n\",\n",
        "    \"\\n\",\n",
        "    \"[**답변 입력 방법**]\\n\",\n",
        "    \"\\n\",\n",
        "    \"문제 아래에 있는 코드 입력창에 정답코드를 작성하신 후  __▷ 버튼을 클릭해 코드를 실행__ 해보세요<br>\"\n",
        "   ]\n",
        "  },\n",
        "  {\n",
        "   \"cell_type\": \"markdown\",\n",
        "   \"metadata\": {},\n",
        "   \"source\": [\n",
        "    \"---\"\n",
        "   ]\n",
        "  },\n",
        "  {\n",
        "   \"cell_type\": \"markdown\",\n",
        "   \"metadata\": {\n",
        "    \"id\": \"pYJ1dSggLwcG\"\n",
        "   },\n",
        "   \"source\": ["
      ]
    },
    {
      "cell_type": "markdown",
      "source": [
        "**[문제1]**\n",
        "\n",
        "print_even 리스트 내에 있는 값 중 짝수만 화면에 출력되도록 print_score 함수를 생성 후 결과값을 출력해주세요\n",
        "\n",
        "print_even ([1, 3, 2, 10, 12, 11, 15])\n"
      ],
      "metadata": {
        "id": "rWgn-HAy_x23"
      }
    },
    {
      "cell_type": "code",
      "source": [
        "print_even = [1, 3, 2, 10, 12, 11, 15]\n",
        "\n",
        "def print_score(print_even):\n",
        "    for x in print_even:\n",
        "        if x % 2 == 0:\n",
        "            print(x)\n",
        "\n",
        "print_score(print_even)\n"
      ],
      "metadata": {
        "id": "w9Vm7s-z_3IB"
      },
      "execution_count": null,
      "outputs": []
    },
    {
      "cell_type": "markdown",
      "source": [
        "**[문제2]**\n",
        "\n",
        "비어있는 오즈 (oz) 클래스를 \"정의\" 해보세요.\n"
      ],
      "metadata": {
        "id": "GXTo6V6GAFaz"
      }
    },
    {
      "cell_type": "code",
      "source": [
        "class oz:\n",
        "    pass\n"
      ],
      "metadata": {
        "id": "DqR-d1e1AJrT"
      },
      "execution_count": null,
      "outputs": []
    },
    {
      "cell_type": "markdown",
      "source": [
        "**[문제3]**\n",
        "\n",
        "오즈(oz) 클래스의 인스턴스를 \"생성\" 하고 이를 coding 변수로 할당해보세요.\n"
      ],
      "metadata": {
        "id": "SQd-m8U6APeZ"
      }
    },
    {
      "cell_type": "code",
      "source": [
        "class oz:\n",
        "    def __init__(self):\n",
        "\n",
        "coding = oz():"
      ],
      "metadata": {
        "id": "v7EIE3ecAQsl"
      },
      "execution_count": null,
      "outputs": []
    },
    {
      "cell_type": "markdown",
      "source": [
        "**[문제4]**\n",
        "\n",
        "오즈(oz) 클래스에 \"클래스 정복\"을 출력하는 기본 생성자를 추가해주세요\n"
      ],
      "metadata": {
        "id": "g70ZylvKAV8T"
      }
    },
    {
      "cell_type": "code",
      "source": [
        "class oz:\n",
        "    def __init__(self):\n",
        "        print(\"클래스 정복\")\n"
      ],
      "metadata": {
        "id": "fxVrPG-PAZNO"
      },
      "execution_count": 31,
      "outputs": []
    },
    {
      "cell_type": "markdown",
      "source": [
        "**[문제5]**\n",
        "\n",
        "오즈 (oz) 클래스에 (이름, 나이, 코딩레벨)을 받는 생성자를 추가해주세요\n",
        "\n",
        "coding = oz(\"김코\", 30, \"A\")\n"
      ],
      "metadata": {
        "id": "CuCd1scGAa1L"
      }
    },
    {
      "cell_type": "code",
      "source": [
        "class oz:\n",
        "    def __init__(self, name, age, level):\n",
        "        self.name = name\n",
        "        self.age = age\n",
        "        self.level = level\n",
        "\n",
        "coding = oz(\"김코\", 30, \"A\")\n"
      ],
      "metadata": {
        "id": "UdhbPIVHAe3N"
      },
      "execution_count": 32,
      "outputs": []
    },
    {
      "cell_type": "markdown",
      "source": [
        "**[문제6]**\n",
        "\n",
        "5번 문제에서 생성한 인스턴스의 이름, 나이, 코딩레벨을 출력해주세요.\n",
        "\n",
        "출력 결과  )  \n",
        "이름 : 김코  \n",
        "나이 : 30  \n",
        "코딩레벨 : A  \n"
      ],
      "metadata": {
        "id": "C83WVJqtAgzB"
      }
    },
    {
      "cell_type": "code",
      "source": [
        "print(\"이름 :\", coding.name)\n",
        "print(\"나이 :\", coding.age)\n",
        "print(\"코딩레벨 :\", coding.level)\n"
      ],
      "metadata": {
        "colab": {
          "base_uri": "https://localhost:8080/"
        },
        "id": "y5okkjk9AjZJ",
        "outputId": "7bb3e233-566b-4b23-a37b-72ecc38b1daa"
      },
      "execution_count": 33,
      "outputs": [
        {
          "output_type": "stream",
          "name": "stdout",
          "text": [
            "이름 : 김코\n",
            "나이 : 30\n",
            "코딩레벨 : A\n"
          ]
        }
      ]
    },
    {
      "cell_type": "markdown",
      "source": [
        "**[문제7]**\n",
        "\n",
        "오즈 (oz) 클래스에서 이름, 나이, 코딩레벨을 출력하는 who() 메소드를 추가하고 who()메소드를 이용해 아래 출력 결과를 만들어주세요\n",
        "\n",
        "출력 결과 )  \n",
        "이름: 김코, 나이: 30, 코딩레벨: A\n"
      ],
      "metadata": {
        "id": "_kyE3p1HAmsP"
      }
    },
    {
      "cell_type": "code",
      "source": [
        "class oz:\n",
        "    def __init__(self, name, age, level):\n",
        "        self.name = name\n",
        "        self.age = age\n",
        "        self.level = level\n",
        "\n",
        "    def who(self):\n",
        "        print(f\"이름: {self.name}, 나이: {self.age}, 코딩레벨: {self.level}\")\n",
        "\n",
        "coding = oz(\"김코\", 30, \"A\")\n",
        "coding.who()\n"
      ],
      "metadata": {
        "colab": {
          "base_uri": "https://localhost:8080/"
        },
        "id": "o0C_VI4PAoGu",
        "outputId": "8471ad18-a2bc-4c78-e11d-674a60345634"
      },
      "execution_count": 34,
      "outputs": [
        {
          "output_type": "stream",
          "name": "stdout",
          "text": [
            "이름: 김코, 나이: 30, 코딩레벨: A\n"
          ]
        }
      ]
    }
  ]
}