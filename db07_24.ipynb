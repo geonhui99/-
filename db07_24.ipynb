{
  "nbformat": 4,
  "nbformat_minor": 0,
  "metadata": {
    "colab": {
      "provenance": [],
      "authorship_tag": "ABX9TyNwMn9+1lOx/mmsbl8z8aHe",
      "include_colab_link": true
    },
    "kernelspec": {
      "name": "python3",
      "display_name": "Python 3"
    },
    "language_info": {
      "name": "python"
    }
  },
  "cells": [
    {
      "cell_type": "markdown",
      "metadata": {
        "id": "view-in-github",
        "colab_type": "text"
      },
      "source": [
        "<a href=\"https://colab.research.google.com/github/geonhui99/-/blob/main/db07_24.ipynb\" target=\"_parent\"><img src=\"https://colab.research.google.com/assets/colab-badge.svg\" alt=\"Open In Colab\"/></a>"
      ]
    },
    {
      "cell_type": "code",
      "source": [
        "-- (1) 자식 테이블부터 부모 테이블 순서대로 삭제\n",
        "DROP TABLE IF EXISTS Services;\n",
        "DROP TABLE IF EXISTS Reservations;\n",
        "DROP TABLE IF EXISTS Pets;\n",
        "DROP TABLE IF EXISTS Rooms;\n",
        "DROP TABLE IF EXISTS PetOwners;\n",
        "\n",
        "-- (2) DB 선택\n",
        "USE pet_hotel_db;\n",
        "\n",
        "-- (3) 테이블 다시 생성\n",
        "CREATE TABLE PetOwners (\n",
        "  ownerID INT PRIMARY KEY AUTO_INCREMENT,\n",
        "  name VARCHAR(100) NOT NULL,\n",
        "  contact VARCHAR(100)\n",
        ");\n",
        "\n",
        "CREATE TABLE Pets (\n",
        "  petID INT PRIMARY KEY AUTO_INCREMENT,\n",
        "  ownerID INT,\n",
        "  name VARCHAR(100) NOT NULL,\n",
        "  species VARCHAR(50),\n",
        "  breed VARCHAR(50),\n",
        "  FOREIGN KEY (ownerID) REFERENCES PetOwners(ownerID)\n",
        ");\n",
        "\n",
        "CREATE TABLE Rooms (\n",
        "  roomID INT PRIMARY KEY AUTO_INCREMENT,\n",
        "  roomNumber VARCHAR(20),\n",
        "  roomType VARCHAR(50),\n",
        "  pricePerNight DECIMAL(10, 2)\n",
        ");\n",
        "\n",
        "CREATE TABLE Reservations (\n",
        "  reservationID INT PRIMARY KEY AUTO_INCREMENT,\n",
        "  petID INT,\n",
        "  roomID INT,\n",
        "  startDate DATE,\n",
        "  endDate DATE,\n",
        "  FOREIGN KEY (petID) REFERENCES Pets(petID),\n",
        "  FOREIGN KEY (roomID) REFERENCES Rooms(roomID)\n",
        ");\n",
        "\n",
        "CREATE TABLE Services (\n",
        "  serviceID INT PRIMARY KEY AUTO_INCREMENT,\n",
        "  reservationID INT,\n",
        "  serviceName VARCHAR(100),\n",
        "  servicePrice DECIMAL(10, 2),\n",
        "  FOREIGN KEY (reservationID) REFERENCES Reservations(reservationID)\n",
        ");\n",
        "-- 고객 입력\n",
        "INSERT INTO PetOwners (name, contact)\n",
        "VALUES ('이건희', '010-1234-5678');\n",
        "\n",
        "-- 반려동물 입력 (ownerID = 1)\n",
        "INSERT INTO Pets (ownerID, name, species, breed)\n",
        "VALUES (1, '복희', '강아지', '치와와');\n",
        "\n",
        "-- 객실 입력\n",
        "INSERT INTO Rooms (roomNumber, roomType, pricePerNight)\n",
        "VALUES ('101', '스탠다드', 270000.00);\n",
        "\n",
        "-- 예약 입력 (petID = 1, roomID = 1)\n",
        "INSERT INTO Reservations (petID, roomID, startDate, endDate)\n",
        "VALUES (1, 1, '2025-07-24', '2025-07-30');\n",
        "\n",
        "-- 서비스 입력 (reservationID = 1)\n",
        "INSERT INTO Services (reservationID, serviceName, servicePrice)\n",
        "VALUES (1, '목욕', 20000.00);\n",
        "\n",
        "\n",
        "SELECT * FROM PetOwners;\n",
        "SELECT * FROM Pets;\n",
        "SELECT * FROM Rooms;\n",
        "SELECT * FROM Reservations;\n",
        "SELECT * FROM Services;"
      ],
      "metadata": {
        "id": "P2XddBVfCluQ"
      },
      "execution_count": null,
      "outputs": []
    }
  ]
}